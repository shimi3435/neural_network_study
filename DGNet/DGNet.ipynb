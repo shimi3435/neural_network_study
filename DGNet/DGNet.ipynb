{
  "cells": [
    {
      "cell_type": "code",
      "execution_count": 1,
      "metadata": {
        "id": "GXeBS-zLCmBj"
      },
      "outputs": [],
      "source": [
        "# テスト用のデータの作成\n",
        "# 自分で用意したデータを利用するときには不要．\n",
        "import autograd\n",
        "import autograd.numpy as np\n",
        "import scipy.integrate\n",
        "solver = scipy.integrate.solve_ivp\n",
        "\n",
        "N = 1\n",
        "# 行列 S に摩擦などに関する項を追加する．\n",
        "O = np.zeros((N,N))\n",
        "Id = np.eye(N)\n",
        "dId = -0.1*Id\n",
        "S = np.vstack([np.hstack([O, Id]), np.hstack([-Id, dId])])\n",
        "\n",
        "# 調和振動子のエネルギー\n",
        "def energy(u):\n",
        "  return np.dot(u,u)\n",
        "\n",
        "# 実験用データ作成のための右辺項\n",
        "def odefunc(t,u):\n",
        "  dhdu = autograd.grad(energy)(u)\n",
        "  return np.matmul(S, dhdu)\n",
        "\n",
        "# 初期条件．時刻 0 での値を適当に決めます．\n",
        "u = np.zeros(2)\n",
        "u[0] = 1\n",
        "u[1] = 0\n",
        "\n",
        "# シミュレーションを行う時間区間を設定し，それを細かく分割．\n",
        "M = 100\n",
        "tend = 10.0\n",
        "t_eval = np.linspace(0, tend, M)\n",
        "# データの時間間隔を計算し，dt という名前で保存．\n",
        "dt = t_eval[1]-t_eval[0]\n",
        "\n",
        "# 実際に微分方程式の解を計算．\n",
        "# 解は solver の返り値の sol の中の 'y' という部分に保存される．\n",
        "sol = solver(odefunc,[0, tend], u,t_eval=t_eval)\n",
        "tval = sol['t']\n",
        "q, p = sol['y'][0], sol['y'][1]\n",
        "\n",
        "# Input: 対応する状態変数データの作成\n",
        "#u_ave = (sol['y'][:,:-1]+sol['y'][:,1:])/2.0\n",
        "xtmp = np.stack([q, p]).T\n",
        "#x1 = xtmp[:,:-1].contiguous().view(-1, N)\n",
        "#x2 = xtmp[:,1:].contiguous().view(-1, N)\n",
        "x1 = xtmp[:-1,:]\n",
        "x2 = xtmp[1:,:]\n",
        "input_data = np.concatenate([x1, x2],axis=1)\n",
        "\n",
        "# Target: 勾配データの作成（観測データから微分を推定するイメージで有限差分で作る）\n",
        "dudt = (sol['y'][:,1:]-sol['y'][:,:-1])/dt\n",
        "\n",
        "np.savetxt(\"target.csv\",dudt.T,delimiter=',')\n",
        "np.savetxt(\"input.csv\",input_data,delimiter=',')"
      ]
    },
    {
      "cell_type": "code",
      "execution_count": 2,
      "metadata": {
        "id": "Q4zMknMKsPho"
      },
      "outputs": [],
      "source": [
        "import torch\n",
        "import torch.utils.data as data_utils\n",
        "from sklearn.model_selection import train_test_split\n",
        "import pandas as pd\n",
        "\n",
        "\n",
        "MY_BATCH_SIZE = 100\n",
        "\n",
        "# csv ファイルに保存したデータを読み込む\n",
        "# 自分で用意したデータを読み込むためには，\n",
        "#   Google ドライブにデータを保存しておき，\n",
        "#   以下の命令でマウントし，読み込む．\n",
        "#   drive/MyDrive が Google ドライブと同じ内容になる．\n",
        "\n",
        "#from google.colab import drive\n",
        "#drive.mount('/content/drive')\n",
        "\n",
        "dftarget = pd.read_csv(\"target.csv\", header=None, dtype=np.float32)\n",
        "dfinput = pd.read_csv(\"input.csv\", header=None, dtype=np.float32)\n",
        "\n",
        "X_train, X_test, Y_train, Y_test = train_test_split(dfinput.values, dftarget.values,test_size=0.8)\n",
        "\n",
        "# 学習用データ\n",
        "data_train = data_utils.TensorDataset(torch.tensor(X_train), torch.tensor(Y_train))\n",
        "train_loader = torch.utils.data.DataLoader(data_train,batch_size=MY_BATCH_SIZE,shuffle=True)\n",
        "\n",
        "# テスト用データ\n",
        "data_test = data_utils.TensorDataset(torch.tensor(X_test), torch.tensor(Y_test))\n",
        "test_loader = torch.utils.data.DataLoader(data_test,batch_size=MY_BATCH_SIZE,shuffle=True)"
      ]
    },
    {
      "cell_type": "code",
      "execution_count": 3,
      "metadata": {
        "id": "Qxh3Vq5G98cJ"
      },
      "outputs": [],
      "source": [
        "# pytorch 関係のライブラリの読み込み\n",
        "import torch\n",
        "import torch.nn as nn\n",
        "import torch.optim as optim\n",
        "# 利用可能であれば GPU を使って計算．何か不具合が生じた場合は device = 'cpu' としましょう．\n",
        "device = torch.device('cuda' if torch.cuda.is_available() else 'cpu')\n",
        "#device = 'cpu'"
      ]
    },
    {
      "cell_type": "code",
      "execution_count": 4,
      "metadata": {
        "id": "UuO7mr3q-FJk"
      },
      "outputs": [
        {
          "name": "stdout",
          "output_type": "stream",
          "text": [
            "--2022-12-14 15:49:48--  https://github.com/tksmatsubara/discrete-autograd/archive/master.zip\n",
            "Resolving github.com (github.com)... 20.27.177.113\n",
            "Connecting to github.com (github.com)|20.27.177.113|:443... connected.\n",
            "HTTP request sent, awaiting response... 302 Found\n",
            "Location: https://codeload.github.com/tksmatsubara/discrete-autograd/zip/refs/heads/master [following]\n",
            "--2022-12-14 15:49:48--  https://codeload.github.com/tksmatsubara/discrete-autograd/zip/refs/heads/master\n",
            "Resolving codeload.github.com (codeload.github.com)... 20.27.177.114\n",
            "Connecting to codeload.github.com (codeload.github.com)|20.27.177.114|:443... connected.\n",
            "HTTP request sent, awaiting response... 200 OK\n",
            "Length: unspecified [application/zip]\n",
            "Saving to: ‘master.zip’\n",
            "\n",
            "master.zip              [ <=>                ] 301.96K  --.-KB/s    in 0.08s   \n",
            "\n",
            "2022-12-14 15:49:49 (3.59 MB/s) - ‘master.zip’ saved [309208]\n",
            "\n",
            "Archive:  master.zip\n",
            "e101a090510be1bed6926a2efa5bea5fb9a07e7c\n",
            "   creating: discrete-autograd-master/\n",
            "  inflating: discrete-autograd-master/.gitignore  \n",
            "  inflating: discrete-autograd-master/LICENSE  \n",
            "  inflating: discrete-autograd-master/README.md  \n",
            "   creating: discrete-autograd-master/dgnet/\n",
            "  inflating: discrete-autograd-master/dgnet/__init__.py  \n",
            "  inflating: discrete-autograd-master/dgnet/modules.py  \n",
            "  inflating: discrete-autograd-master/dgnet/ode.py  \n",
            "  inflating: discrete-autograd-master/dgnet/pde.py  \n",
            "   creating: discrete-autograd-master/experiment-2body/\n",
            "  inflating: discrete-autograd-master/experiment-2body/train_dgnet.py  \n",
            "   creating: discrete-autograd-master/experiment-ch/\n",
            "  inflating: discrete-autograd-master/experiment-ch/data.py  \n",
            "  inflating: discrete-autograd-master/experiment-ch/train_dgnet.py  \n",
            "   creating: discrete-autograd-master/experiment-pend/\n",
            "  inflating: discrete-autograd-master/experiment-pend/train_dgnet.py  \n",
            "   creating: discrete-autograd-master/experiment-real/\n",
            "  inflating: discrete-autograd-master/experiment-real/train_dgnet.py  \n",
            "   creating: discrete-autograd-master/experiment-spring/\n",
            "  inflating: discrete-autograd-master/experiment-spring/train_dgnet.py  \n",
            "   creating: discrete-autograd-master/images/\n",
            "  inflating: discrete-autograd-master/images/kdv.png  \n",
            "  inflating: discrete-autograd-master/images/spring.png  \n",
            "--2022-12-14 15:49:49--  https://github.com/greydanus/hamiltonian-nn/blob/master/hnn.py\n",
            "Resolving github.com (github.com)... 20.27.177.113\n",
            "Connecting to github.com (github.com)|20.27.177.113|:443... connected.\n",
            "HTTP request sent, awaiting response... 200 OK\n",
            "Length: unspecified [text/html]\n",
            "Saving to: ‘hnn.py’\n",
            "\n",
            "hnn.py                  [ <=>                ] 202.68K  --.-KB/s    in 0.08s   \n",
            "\n",
            "2022-12-14 15:49:50 (2.60 MB/s) - ‘hnn.py’ saved [207543]\n",
            "\n",
            "--2022-12-14 15:49:50--  https://github.com/greydanus/hamiltonian-nn/blob/master/nn_models.py\n",
            "Resolving github.com (github.com)... 20.27.177.113\n",
            "Connecting to github.com (github.com)|20.27.177.113|:443... connected.\n",
            "HTTP request sent, awaiting response... 200 OK\n",
            "Length: unspecified [text/html]\n",
            "Saving to: ‘nn_models.py’\n",
            "\n",
            "nn_models.py            [  <=>               ] 180.79K   729KB/s    in 0.2s    \n",
            "\n",
            "2022-12-14 15:49:51 (729 KB/s) - ‘nn_models.py’ saved [185132]\n",
            "\n",
            "--2022-12-14 15:49:51--  https://github.com/greydanus/hamiltonian-nn/blob/master/utils.py\n",
            "Resolving github.com (github.com)... 20.27.177.113\n",
            "Connecting to github.com (github.com)|20.27.177.113|:443... connected.\n",
            "HTTP request sent, awaiting response... 200 OK\n",
            "Length: unspecified [text/html]\n",
            "Saving to: ‘utils.py’\n",
            "\n",
            "utils.py                [  <=>               ] 202.03K   765KB/s    in 0.3s    \n",
            "\n",
            "2022-12-14 15:49:52 (765 KB/s) - ‘utils.py’ saved [206882]\n",
            "\n"
          ]
        }
      ],
      "source": [
        "# dgnet および hnn から必要なファイルをダウンロード\n",
        "!wget https://github.com/tksmatsubara/discrete-autograd/archive/master.zip\n",
        "!unzip master.zip\n",
        "!mv discrete-autograd-master/dgnet ./\n",
        "!wget https://github.com/greydanus/hamiltonian-nn/blob/master/hnn.py\n",
        "!wget https://github.com/greydanus/hamiltonian-nn/blob/master/nn_models.py\n",
        "!wget https://github.com/greydanus/hamiltonian-nn/blob/master/utils.py"
      ]
    },
    {
      "cell_type": "code",
      "execution_count": 5,
      "metadata": {
        "id": "AcnpZ28X_Ylg"
      },
      "outputs": [],
      "source": [
        "import dgnet\n",
        "from dgnet.ode import DGNet\n",
        "#from dgnet import Sequential\n",
        "#from dgnet import get_decorated_module_by_name\n",
        "from dgnet import *\n",
        "\n",
        "# 多層パーセプトロンによる常微分方程式モデル．\n",
        "# input_dim は状態変数の数．hidden_dim は隠れ層の大きさ．\n",
        "# output_dim はエネルギーの値のみを出力するので 1 \n",
        "input_dim = N*2\n",
        "hidden_dim = 30\n",
        "output_dim = 1\n",
        "\n",
        "nonlinearity='tanh'\n",
        "mynet = DGNet(input_dim, hidden_dim, nonlinearity=nonlinearity, friction=False, model='hnn', solver='dg')\n",
        "\n",
        "# DGNet 用の tanh を用意\n",
        "Act = get_decorated_module_by_name(nonlinearity)\n",
        "\n",
        "# デフォルトモデルを利用しない場合には以下で設計する．\n",
        "mynet.net = Sequential(\n",
        "        Linear(input_dim, hidden_dim),\n",
        "        Act(),\n",
        "        Linear(hidden_dim, hidden_dim),\n",
        "        Act(),\n",
        "        Linear(hidden_dim, output_dim, bias=None),\n",
        "    )\n",
        "\n",
        "# モデルを計算用のデバイスに転送\n",
        "mynet = mynet.to(device)"
      ]
    },
    {
      "cell_type": "code",
      "execution_count": 6,
      "metadata": {
        "id": "xhio-gO2B_i_"
      },
      "outputs": [
        {
          "name": "stdout",
          "output_type": "stream",
          "text": [
            "1/10000 training loss: 0.808663547039032, evaluation loss: 0.7968560457229614\n",
            "1001/10000 training loss: 0.001613581320270896, evaluation loss: 0.006672388408333063\n",
            "2001/10000 training loss: 0.0008912290213629603, evaluation loss: 0.013778862543404102\n",
            "3001/10000 training loss: 0.0006568573298864067, evaluation loss: 0.01815553568303585\n",
            "4001/10000 training loss: 0.0004461422504391521, evaluation loss: 0.015551403164863586\n",
            "5001/10000 training loss: 0.00013723550364375114, evaluation loss: 0.016142213717103004\n",
            "6001/10000 training loss: 2.9684701075893827e-05, evaluation loss: 0.01593039184808731\n",
            "7001/10000 training loss: 1.0127884706889745e-05, evaluation loss: 0.016652138903737068\n",
            "8001/10000 training loss: 4.936703589919489e-06, evaluation loss: 0.018100431188941002\n",
            "9001/10000 training loss: 3.7399547636596253e-06, evaluation loss: 0.019595300778746605\n"
          ]
        }
      ],
      "source": [
        "dtype = torch.get_default_dtype()\n",
        "torch.set_grad_enabled(False)\n",
        "\n",
        "# 学習回数を設定\n",
        "num_epochs = 10000\n",
        "\n",
        "# 誤差の計算方法を指定\n",
        "criterion = nn.MSELoss()\n",
        "\n",
        "# 学習アルゴリズムとパラメータを指定\n",
        "optimizer = optim.Adam(params=mynet.parameters(), lr=0.001)\n",
        "\n",
        "history_loss = []\n",
        "history_eval = []\n",
        "\n",
        "# 実際の学習部分のループ\n",
        "for epoch in range(num_epochs):\n",
        "  # まず，ネットワークを学習モードに切り替える．\n",
        "  mynet.train()\n",
        "\n",
        "  total_loss = 0.0\n",
        "  eval_loss = 0.0\n",
        "  cnt = 0\n",
        "  for i, (data, target) in enumerate(train_loader):\n",
        "    # 微分をゼロに初期化．ネットワークの出力，損失関数を計算し，その微分を求め，学習を進める．\n",
        "    with torch.enable_grad():\n",
        "        optimizer.zero_grad()\n",
        "        split_data = torch.split(data,N*2,dim=1)\n",
        "        x1 = split_data[0].to(device)\n",
        "        x2 = split_data[1].to(device)\n",
        "        output = mynet.discrete_time_derivative(x1, dt=dt, x2=x2)\n",
        "        \n",
        "        loss = criterion(output, target.to(device))\n",
        "        loss.backward()\n",
        "        optimizer.step()\n",
        "        # 各バッチでの損失関数の値を合計．\n",
        "        total_loss = total_loss + loss.cpu().item()\n",
        "        cnt = cnt +1\n",
        "  total_loss = total_loss/cnt\n",
        "\n",
        "  # （学習データとは別の）テストデータで性能を検証．\n",
        "  # 性能を検証するときにはネットワークを評価モードに変更．\n",
        "  mynet.eval()\n",
        "  eval_loss = 0.0\n",
        "  cnt = 0\n",
        "  for i, (data, target) in enumerate(test_loader):\n",
        "    split_data = torch.split(data,N*2,dim=1)\n",
        "    x1 = split_data[0].to(device)\n",
        "    x2 = split_data[1].to(device)\n",
        "    output = mynet.discrete_time_derivative(x1, dt=dt, x2=x2)\n",
        "    eval_loss = eval_loss + criterion(output, target.to(device)).cpu().item()\n",
        "    cnt = cnt+1\n",
        "  eval_loss = eval_loss/cnt\n",
        "\n",
        "  history_loss.append(total_loss)\n",
        "  history_eval.append(eval_loss)\n",
        "  if(epoch % 1000 ==0):\n",
        "    print(\"{}/{} training loss: {}, evaluation loss: {}\".format(epoch+1,num_epochs,total_loss, eval_loss))   "
      ]
    },
    {
      "cell_type": "code",
      "execution_count": 7,
      "metadata": {
        "id": "PFEBe0lEPnt5"
      },
      "outputs": [],
      "source": [
        "# 学習したモデルでのシミュレーション\n",
        "#!pip install torchdiffeq\n",
        "#from torchdiffeq import odeint\n",
        "import matplotlib.pyplot as plt\n",
        "\n",
        "# 計算区間の設定\n",
        "teval = torch.linspace(0,5,100)\n",
        "dt = teval[1]-teval[0]\n",
        "\n",
        "# 初期条件の設定\n",
        "x1 = np.asarray([1, 0])\n",
        "\n",
        "x1 = torch.tensor(x1, dtype=dtype).unsqueeze(0).to(device)\n",
        "xtol = 0.0001\n",
        "\n",
        "xs = []\n",
        "energys = []\n",
        "for t in teval:\n",
        "    x2 = fsolve_gpu(lambda xp: mynet.discrete_time_derivative(x1, dt=None, x2=xp) - (xp - x1) / dt, x1, xtol=xtol)\n",
        "    xs.append(x2.detach().cpu().numpy())\n",
        "    energys.append(mynet.hamiltonian(x2).cpu().item())\n",
        "    x1 = x2\n",
        "\n",
        "teval = teval.detach().cpu().numpy()"
      ]
    },
    {
      "cell_type": "code",
      "execution_count": 8,
      "metadata": {
        "id": "-bb6deZSUImM"
      },
      "outputs": [
        {
          "data": {
            "text/plain": [
              "[<matplotlib.lines.Line2D at 0x7f83a10fcb50>]"
            ]
          },
          "execution_count": 8,
          "metadata": {},
          "output_type": "execute_result"
        },
        {
          "data": {
            "image/png": "[encoded data removed]",
            "text/plain": [
              "<Figure size 640x480 with 1 Axes>"
            ]
          },
          "metadata": {},
          "output_type": "display_data"
        }
      ],
      "source": [
        "# 解をプロット．データを cpu に持ってきて numpy で扱える型に変換．\n",
        "res = np.array(xs)\n",
        "# 第１変数のプロット\n",
        "plt.plot(teval,res[:,0,0])\n",
        "# 第２変数のプロット\n",
        "plt.plot(teval,res[:,0,1])"
      ]
    },
    {
      "cell_type": "code",
      "execution_count": 9,
      "metadata": {
        "id": "vQ-v4QA_VkFg"
      },
      "outputs": [
        {
          "name": "stdout",
          "output_type": "stream",
          "text": [
            "-4.133434295654297\n",
            "-4.133432865142822\n"
          ]
        },
        {
          "data": {
            "image/png": "[encoded data removed]",
            "text/plain": [
              "<Figure size 640x480 with 1 Axes>"
            ]
          },
          "metadata": {},
          "output_type": "display_data"
        }
      ],
      "source": [
        "plt.plot(teval,energys)\n",
        "# グラフ以外に，適当な時刻での値を確認しておく．\n",
        "print(energys[0])\n",
        "print(energys[10])"
      ]
    }
  ],
  "metadata": {
    "accelerator": "GPU",
    "colab": {
      "collapsed_sections": [],
      "name": "DGNet.ipynb",
      "private_outputs": true,
      "provenance": []
    },
    "kernelspec": {
      "display_name": ".venv",
      "language": "python",
      "name": "python3"
    },
    "language_info": {
      "codemirror_mode": {
        "name": "ipython",
        "version": 3
      },
      "file_extension": ".py",
      "mimetype": "text/x-python",
      "name": "python",
      "nbconvert_exporter": "python",
      "pygments_lexer": "ipython3",
      "version": "3.10.4"
    },
    "vscode": {
      "interpreter": {
        "hash": "ba72c6c2ec42a78497f7dd53cc80d7839de11745de6cd646632e47d2605de955"
      }
    }
  },
  "nbformat": 4,
  "nbformat_minor": 0
}
